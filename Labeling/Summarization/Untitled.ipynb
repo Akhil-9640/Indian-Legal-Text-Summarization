{
 "cells": [
  {
   "cell_type": "code",
   "execution_count": 2,
   "id": "bb97d2fc-9429-4859-9233-9a2911cd5d80",
   "metadata": {},
   "outputs": [
    {
     "name": "stderr",
     "output_type": "stream",
     "text": [
      "[nltk_data] Downloading package punkt to\n",
      "[nltk_data]     C:\\Users\\akhhe\\AppData\\Roaming\\nltk_data...\n",
      "[nltk_data]   Package punkt is already up-to-date!\n",
      "[nltk_data] Downloading package averaged_perceptron_tagger to\n",
      "[nltk_data]     C:\\Users\\akhhe\\AppData\\Roaming\\nltk_data...\n",
      "[nltk_data]   Package averaged_perceptron_tagger is already up-to-\n",
      "[nltk_data]       date!\n"
     ]
    },
    {
     "data": {
      "text/plain": [
       "True"
      ]
     },
     "execution_count": 2,
     "metadata": {},
     "output_type": "execute_result"
    }
   ],
   "source": [
    "import nltk\n",
    "import json\n",
    "\n",
    "# Hardcoded paths (replace with your actual directory paths)\n",
    "data_path = \"data\"  # Directory containing documents to be summarized\n",
    "prep_path = \"data/prepared_data.json\"  # Path to store prepared data in JSON format\n",
    "\n",
    "# Download required NLTK resources (comment out if already downloaded)\n",
    "nltk.download('punkt')\n",
    "nltk.download('averaged_perceptron_tagger')"
   ]
  },
  {
   "cell_type": "code",
   "execution_count": 5,
   "id": "3a090e17-e40d-4b5c-b02a-a40f41811b44",
   "metadata": {},
   "outputs": [
    {
     "name": "stdout",
     "output_type": "stream",
     "text": [
      "data\\.ipynb_checkpoints\n",
      "Error processing .ipynb_checkpoints: [Errno 13] Permission denied: 'data\\\\.ipynb_checkpoints'\n",
      "data\\IN-EXT-length.txt\n",
      "Completed processing: IN-EXT-length.txt\n",
      "data\\judge\n",
      "Error processing judge: [Errno 13] Permission denied: 'data\\\\judge'\n",
      "data\\judgement\n",
      "Error processing judgement: [Errno 13] Permission denied: 'data\\\\judgement'\n",
      "data\\prepared_data.jsonprepared_data.json\n",
      "Completed processing: prepared_data.jsonprepared_data.json\n",
      "data\\README.md\n",
      "Completed processing: README.md\n",
      "data\\summaries_1\n",
      "Error processing summaries_1: [Errno 13] Permission denied: 'data\\\\summaries_1'\n"
     ]
    },
    {
     "ename": "FileNotFoundError",
     "evalue": "[Errno 2] No such file or directory: 'data/prepared_data.json\\\\prepared_data.json'",
     "output_type": "error",
     "traceback": [
      "\u001b[1;31m---------------------------------------------------------------------------\u001b[0m",
      "\u001b[1;31mFileNotFoundError\u001b[0m                         Traceback (most recent call last)",
      "\u001b[1;32m~\\AppData\\Local\\Temp\\ipykernel_24104\\3569035333.py\u001b[0m in \u001b[0;36m<module>\u001b[1;34m\u001b[0m\n\u001b[0;32m     55\u001b[0m \u001b[1;33m\u001b[0m\u001b[0m\n\u001b[0;32m     56\u001b[0m \u001b[1;31m# Save the prepared data to a JSON file\u001b[0m\u001b[1;33m\u001b[0m\u001b[1;33m\u001b[0m\u001b[0m\n\u001b[1;32m---> 57\u001b[1;33m \u001b[1;32mwith\u001b[0m \u001b[0mopen\u001b[0m\u001b[1;33m(\u001b[0m\u001b[0mos\u001b[0m\u001b[1;33m.\u001b[0m\u001b[0mpath\u001b[0m\u001b[1;33m.\u001b[0m\u001b[0mjoin\u001b[0m\u001b[1;33m(\u001b[0m\u001b[0mprep_path\u001b[0m\u001b[1;33m,\u001b[0m \u001b[1;34m'prepared_data.json'\u001b[0m\u001b[1;33m)\u001b[0m\u001b[1;33m,\u001b[0m \u001b[1;34m'w'\u001b[0m\u001b[1;33m)\u001b[0m \u001b[1;32mas\u001b[0m \u001b[0moutfile\u001b[0m\u001b[1;33m:\u001b[0m\u001b[1;33m\u001b[0m\u001b[1;33m\u001b[0m\u001b[0m\n\u001b[0m\u001b[0;32m     58\u001b[0m     \u001b[0mjson\u001b[0m\u001b[1;33m.\u001b[0m\u001b[0mdump\u001b[0m\u001b[1;33m(\u001b[0m\u001b[0mdata_files\u001b[0m\u001b[1;33m,\u001b[0m \u001b[0moutfile\u001b[0m\u001b[1;33m,\u001b[0m \u001b[0mindent\u001b[0m\u001b[1;33m=\u001b[0m\u001b[1;36m4\u001b[0m\u001b[1;33m)\u001b[0m\u001b[1;33m\u001b[0m\u001b[1;33m\u001b[0m\u001b[0m\n\u001b[0;32m     59\u001b[0m \u001b[1;33m\u001b[0m\u001b[0m\n",
      "\u001b[1;31mFileNotFoundError\u001b[0m: [Errno 2] No such file or directory: 'data/prepared_data.json\\\\prepared_data.json'"
     ]
    }
   ],
   "source": [
    "# Separator used in your data files\n",
    "separator = \"\\t\"\n",
    "\n",
    "# List of document filenames (assuming all files in data_path are text files)\n",
    "files = os.listdir(data_path)\n",
    "\n",
    "# Prepare a dictionary to store processed data\n",
    "data_files = {}\n",
    "\n",
    "for filename in files:\n",
    "    # Construct full path to the document\n",
    "    filepath = os.path.join(data_path, filename)\n",
    "    print(filepath)\n",
    "\n",
    "    try:\n",
    "        # Open the document for reading\n",
    "        with open(filepath, 'r') as file:\n",
    "            # Initialize a dictionary to store data for the current document\n",
    "            doc_data = {}\n",
    "\n",
    "            for line in file:\n",
    "                # Split the line based on the separator\n",
    "                try:\n",
    "                    words, pos = line.strip('\\n\\r').split(separator, 1)\n",
    "                    text = words.strip(' \\t\\n\\r')\n",
    "                except ValueError:  # Handle lines without separator\n",
    "                    text = line.strip(' \\t\\n\\r')\n",
    "\n",
    "                # Clean up text (remove unnecessary text if present)\n",
    "                text = text.replace(\"sino noindex makedatabase footer start url\", \"\")\n",
    "\n",
    "                # Add text to the document data if it's not empty\n",
    "                if text:\n",
    "                    if pos in doc_data:\n",
    "                        # Append text to existing list for the category\n",
    "                        doc_data[pos].append(text)\n",
    "                    else:\n",
    "                        # Create a new list for the category\n",
    "                        doc_data[pos] = [text]\n",
    "\n",
    "            # Process text using NLTK (tokenization and POS tagging)\n",
    "            processed_data = []\n",
    "            for category, sentences in doc_data.items():\n",
    "                for sentence in sentences:\n",
    "                    tokens = nltk.word_tokenize(sentence)\n",
    "                    processed_sentence = (sentence, tokens, nltk.pos_tag(tokens))\n",
    "                    processed_data.append(processed_sentence)\n",
    "\n",
    "            # Store processed data for the current document\n",
    "            data_files[filename.split('.txt')[0].strip(' \\t\\n\\r')] = processed_data\n",
    "\n",
    "        print(f\"Completed processing: {filename}\")\n",
    "    except Exception as e:\n",
    "        print(f\"Error processing {filename}: {e}\")\n",
    "\n",
    "# Save the prepared data to a JSON file\n",
    "with open(os.path.join(prep_path, 'prepared_data.json'), 'w') as outfile:\n",
    "    json.dump(data_files, outfile, indent=4)\n",
    "\n",
    "print(\"Data preparation complete!\")"
   ]
  },
  {
   "cell_type": "code",
   "execution_count": null,
   "id": "d85a0ad0-a603-40a7-b4c0-e0f6e0d7d1cf",
   "metadata": {},
   "outputs": [],
   "source": []
  }
 ],
 "metadata": {
  "kernelspec": {
   "display_name": "Python 3 (ipykernel)",
   "language": "python",
   "name": "python3"
  },
  "language_info": {
   "codemirror_mode": {
    "name": "ipython",
    "version": 3
   },
   "file_extension": ".py",
   "mimetype": "text/x-python",
   "name": "python",
   "nbconvert_exporter": "python",
   "pygments_lexer": "ipython3",
   "version": "3.9.18"
  }
 },
 "nbformat": 4,
 "nbformat_minor": 5
}
