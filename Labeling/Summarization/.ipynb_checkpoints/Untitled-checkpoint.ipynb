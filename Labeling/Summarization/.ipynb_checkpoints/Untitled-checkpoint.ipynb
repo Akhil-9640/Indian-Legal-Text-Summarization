{
 "cells": [
  {
   "cell_type": "code",
   "execution_count": 2,
   "id": "bb97d2fc-9429-4859-9233-9a2911cd5d80",
   "metadata": {},
   "outputs": [
    {
     "name": "stderr",
     "output_type": "stream",
     "text": [
      "[nltk_data] Downloading package punkt to\n",
      "[nltk_data]     C:\\Users\\akhhe\\AppData\\Roaming\\nltk_data...\n",
      "[nltk_data]   Package punkt is already up-to-date!\n",
      "[nltk_data] Downloading package averaged_perceptron_tagger to\n",
      "[nltk_data]     C:\\Users\\akhhe\\AppData\\Roaming\\nltk_data...\n",
      "[nltk_data]   Package averaged_perceptron_tagger is already up-to-\n",
      "[nltk_data]       date!\n"
     ]
    },
    {
     "data": {
      "text/plain": [
       "True"
      ]
     },
     "execution_count": 2,
     "metadata": {},
     "output_type": "execute_result"
    }
   ],
   "source": [
    "import nltk\n",
    "import json\n",
    "\n",
    "# Hardcoded paths (replace with your actual directory paths)\n",
    "data_path = \"data\"  # Directory containing documents to be summarized\n",
    "prep_path = \"data/prepared_data.json\"  # Path to store prepared data in JSON format\n",
    "\n",
    "# Download required NLTK resources (comment out if already downloaded)\n",
    "nltk.download('punkt')\n",
    "nltk.download('averaged_perceptron_tagger')"
   ]
  },
  {
   "cell_type": "code",
   "execution_count": null,
   "id": "3a090e17-e40d-4b5c-b02a-a40f41811b44",
   "metadata": {},
   "outputs": [],
   "source": [
    "# Separator used in your data files\n",
    "separator = \"\\t\"\n",
    "\n",
    "# List of document filenames (assuming all files in data_path are text files)\n",
    "files = os.listdir(data_path)\n",
    "\n",
    "# Prepare a dictionary to store processed data\n",
    "data_files = {}\n",
    "\n",
    "for filename in files:\n",
    "    # Construct full path to the document\n",
    "    filepath = os.path.join(data_path, filename)\n",
    "    print(filepath)\n",
    "\n",
    "    try:\n",
    "        # Open the document for reading\n",
    "        with open(filepath, 'r') as file:\n",
    "            # Initialize a dictionary to store data for the current document\n",
    "            doc_data = {}\n",
    "\n",
    "            for line in file:\n",
    "                # Split the line based on the separator\n",
    "                try:\n",
    "                    words, pos = line.strip('\\n\\r').split(separator, 1)\n",
    "                    text = words.strip(' \\t\\n\\r')\n",
    "                except ValueError:  # Handle lines without separator\n",
    "                    text = line.strip(' \\t\\n\\r')\n",
    "\n",
    "                # Clean up text (remove unnecessary text if present)\n",
    "                text = text.replace(\"sino noindex makedatabase footer start url\", \"\")\n",
    "\n",
    "                # Add text to the document data if it's not empty\n",
    "                if text:\n",
    "                    if pos in doc_data:\n",
    "                        # Append text to existing list for the category\n",
    "                        doc_data[pos].append(text)\n",
    "                    else:\n",
    "                        # Create a new list for the category\n",
    "                        doc_data[pos] = [text]\n",
    "\n",
    "            # Process text using NLTK (tokenization and POS tagging)\n",
    "            processed_data = []\n",
    "            for category, sentences in doc_data.items():\n",
    "                for sentence in sentences:\n",
    "                    tokens = nltk.word_tokenize(sentence)\n",
    "                    processed_sentence = (sentence, tokens, nltk.pos_tag(tokens))\n",
    "                    processed_data.append(processed_sentence)\n",
    "\n",
    "            # Store processed data for the current document\n",
    "            data_files[filename.split('.txt')[0].strip(' \\t\\n\\r')] = processed_data\n",
    "\n",
    "        print(f\"Completed processing: {filename}\")\n",
    "    except Exception as e:\n",
    "        print(f\"Error processing {filename}: {e}\")\n",
    "\n",
    "# Save the prepared data to a JSON file\n",
    "with open(os.path.join(prep_path, 'prepared_data.json'), 'w') as outfile:\n",
    "    json.dump(data_files, outfile, indent=4)\n",
    "\n",
    "print(\"Data preparation complete!\")"
   ]
  },
  {
   "cell_type": "code",
   "execution_count": null,
   "id": "7ac9e081-a307-4a76-8738-dc8e6e86a245",
   "metadata": {},
   "outputs": [],
   "source": []
  }
 ],
 "metadata": {
  "kernelspec": {
   "display_name": "Python 3 (ipykernel)",
   "language": "python",
   "name": "python3"
  },
  "language_info": {
   "codemirror_mode": {
    "name": "ipython",
    "version": 3
   },
   "file_extension": ".py",
   "mimetype": "text/x-python",
   "name": "python",
   "nbconvert_exporter": "python",
   "pygments_lexer": "ipython3",
   "version": "3.9.18"
  }
 },
 "nbformat": 4,
 "nbformat_minor": 5
}
